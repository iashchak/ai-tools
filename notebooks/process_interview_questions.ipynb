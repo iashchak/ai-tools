{
 "cells": [
  {
   "cell_type": "markdown",
   "source": [
    "# Fine-tuning model for interview question answering\n",
    "\n",
    "This notebook is a test for fine-tuning a model for interview question answering. It contains several sources for interview questions and answers. The goal is to fine-tune a model to answer interview questions.\n",
    "\n",
    "## Requirements:\n",
    "This code written using Local Machine with GPU Nvidia GTX 1660 Ti 6GB. But you can use Google Colab for free.\n",
    "\n",
    " - Anaconda\n",
    " - Nvidia CUDA Toolkit 11.1\n",
    " - Jupyter Notebook\n",
    "\n",
    "## Links to the sources:\n",
    "\n",
    "Sources for interview questions and answers:\n",
    "- [https://github.com/sudheerj/angular-interview-questions](https://github.com/sudheerj/angular-interview-questions)\n",
    "- [https://github.com/sudheerj/javascript-interview-questions](https://github.com/sudheerj/javascript-interview-questions)\n",
    "- [https://github.com/sudheerj/reactjs-interview-questions](https://github.com/sudheerj/reactjs-interview-questions)\n",
    "- [https://github.com/aershov24/full-stack-interview-questions](https://github.com/aershov24/full-stack-interview-questions)\n",
    "\n",
    "## Model for paraphrasing:\n",
    "Also we use the following model for paraphrasing:\n",
    "- [https://huggingface.co/google/flan-t5-small](https://huggingface.co/google/flan-t5-small)\n",
    "\n",
    "## Model for fine-tuning:\n",
    "And the following model for fine-tuning:\n",
    "- [https://huggingface.co/databricks/dolly-v2-3b](https://huggingface.co/databricks/dolly-v2-3b)\n",
    "- [https://huggingface.co/google/flan-t5-small](https://huggingface.co/google/flan-t5-small)"
   ],
   "metadata": {
    "collapsed": false
   }
  },
  {
   "cell_type": "code",
   "execution_count": 1,
   "outputs": [
    {
     "name": "stdout",
     "output_type": "stream",
     "text": [
      "Requirement already satisfied: datasets in c:\\programdata\\anaconda3\\envs\\ai-tools\\lib\\site-packages (2.11.0)\n",
      "Requirement already satisfied: markdown in c:\\programdata\\anaconda3\\envs\\ai-tools\\lib\\site-packages (3.4.3)\n",
      "Requirement already satisfied: beautifulsoup4 in c:\\programdata\\anaconda3\\envs\\ai-tools\\lib\\site-packages (4.12.2)\n",
      "Requirement already satisfied: responses<0.19 in c:\\programdata\\anaconda3\\envs\\ai-tools\\lib\\site-packages (from datasets) (0.18.0)\n",
      "Requirement already satisfied: pyarrow>=8.0.0 in c:\\programdata\\anaconda3\\envs\\ai-tools\\lib\\site-packages (from datasets) (9.0.0)\n",
      "Requirement already satisfied: requests>=2.19.0 in c:\\programdata\\anaconda3\\envs\\ai-tools\\lib\\site-packages (from datasets) (2.28.1)\n",
      "Requirement already satisfied: multiprocess in c:\\programdata\\anaconda3\\envs\\ai-tools\\lib\\site-packages (from datasets) (0.70.13)\n",
      "Requirement already satisfied: fsspec[http]>=2021.11.1 in c:\\programdata\\anaconda3\\envs\\ai-tools\\lib\\site-packages (from datasets) (2023.4.0)\n",
      "Requirement already satisfied: aiohttp in c:\\programdata\\anaconda3\\envs\\ai-tools\\lib\\site-packages (from datasets) (3.8.4)\n",
      "Requirement already satisfied: pyyaml>=5.1 in c:\\programdata\\anaconda3\\envs\\ai-tools\\lib\\site-packages (from datasets) (6.0)\n",
      "Requirement already satisfied: pandas in c:\\programdata\\anaconda3\\envs\\ai-tools\\lib\\site-packages (from datasets) (2.0.0)\n",
      "Requirement already satisfied: packaging in c:\\programdata\\anaconda3\\envs\\ai-tools\\lib\\site-packages (from datasets) (23.1)\n",
      "Requirement already satisfied: dill<0.3.7,>=0.3.0 in c:\\programdata\\anaconda3\\envs\\ai-tools\\lib\\site-packages (from datasets) (0.3.6)\n",
      "Requirement already satisfied: tqdm>=4.62.1 in c:\\programdata\\anaconda3\\envs\\ai-tools\\lib\\site-packages (from datasets) (4.65.0)\n",
      "Requirement already satisfied: huggingface-hub<1.0.0,>=0.11.0 in c:\\programdata\\anaconda3\\envs\\ai-tools\\lib\\site-packages (from datasets) (0.13.4)\n",
      "Requirement already satisfied: numpy>=1.17 in c:\\programdata\\anaconda3\\envs\\ai-tools\\lib\\site-packages (from datasets) (1.24.1)\n",
      "Requirement already satisfied: xxhash in c:\\programdata\\anaconda3\\envs\\ai-tools\\lib\\site-packages (from datasets) (3.2.0)\n",
      "Requirement already satisfied: importlib-metadata>=4.4 in c:\\programdata\\anaconda3\\envs\\ai-tools\\lib\\site-packages (from markdown) (6.5.0)\n",
      "Requirement already satisfied: soupsieve>1.2 in c:\\programdata\\anaconda3\\envs\\ai-tools\\lib\\site-packages (from beautifulsoup4) (2.4.1)\n",
      "Requirement already satisfied: multidict<7.0,>=4.5 in c:\\programdata\\anaconda3\\envs\\ai-tools\\lib\\site-packages (from aiohttp->datasets) (6.0.4)\n",
      "Requirement already satisfied: async-timeout<5.0,>=4.0.0a3 in c:\\programdata\\anaconda3\\envs\\ai-tools\\lib\\site-packages (from aiohttp->datasets) (4.0.2)\n",
      "Requirement already satisfied: charset-normalizer<4.0,>=2.0 in c:\\programdata\\anaconda3\\envs\\ai-tools\\lib\\site-packages (from aiohttp->datasets) (2.1.1)\n",
      "Requirement already satisfied: yarl<2.0,>=1.0 in c:\\programdata\\anaconda3\\envs\\ai-tools\\lib\\site-packages (from aiohttp->datasets) (1.8.2)\n",
      "Requirement already satisfied: aiosignal>=1.1.2 in c:\\programdata\\anaconda3\\envs\\ai-tools\\lib\\site-packages (from aiohttp->datasets) (1.3.1)\n",
      "Requirement already satisfied: frozenlist>=1.1.1 in c:\\programdata\\anaconda3\\envs\\ai-tools\\lib\\site-packages (from aiohttp->datasets) (1.3.3)\n",
      "Requirement already satisfied: attrs>=17.3.0 in c:\\programdata\\anaconda3\\envs\\ai-tools\\lib\\site-packages (from aiohttp->datasets) (23.1.0)\n",
      "Requirement already satisfied: typing-extensions>=3.7.4.3 in c:\\programdata\\anaconda3\\envs\\ai-tools\\lib\\site-packages (from huggingface-hub<1.0.0,>=0.11.0->datasets) (4.4.0)\n",
      "Requirement already satisfied: filelock in c:\\programdata\\anaconda3\\envs\\ai-tools\\lib\\site-packages (from huggingface-hub<1.0.0,>=0.11.0->datasets) (3.9.0)\n",
      "Requirement already satisfied: zipp>=0.5 in c:\\programdata\\anaconda3\\envs\\ai-tools\\lib\\site-packages (from importlib-metadata>=4.4->markdown) (3.15.0)\n",
      "Requirement already satisfied: certifi>=2017.4.17 in c:\\programdata\\anaconda3\\envs\\ai-tools\\lib\\site-packages (from requests>=2.19.0->datasets) (2022.12.7)\n",
      "Requirement already satisfied: urllib3<1.27,>=1.21.1 in c:\\programdata\\anaconda3\\envs\\ai-tools\\lib\\site-packages (from requests>=2.19.0->datasets) (1.26.13)\n",
      "Requirement already satisfied: idna<4,>=2.5 in c:\\programdata\\anaconda3\\envs\\ai-tools\\lib\\site-packages (from requests>=2.19.0->datasets) (3.4)\n",
      "Requirement already satisfied: colorama in c:\\programdata\\anaconda3\\envs\\ai-tools\\lib\\site-packages (from tqdm>=4.62.1->datasets) (0.4.6)\n",
      "Requirement already satisfied: pytz>=2020.1 in c:\\programdata\\anaconda3\\envs\\ai-tools\\lib\\site-packages (from pandas->datasets) (2023.3)\n",
      "Requirement already satisfied: tzdata>=2022.1 in c:\\programdata\\anaconda3\\envs\\ai-tools\\lib\\site-packages (from pandas->datasets) (2023.3)\n",
      "Requirement already satisfied: python-dateutil>=2.8.2 in c:\\programdata\\anaconda3\\envs\\ai-tools\\lib\\site-packages (from pandas->datasets) (2.8.2)\n",
      "Requirement already satisfied: six>=1.5 in c:\\programdata\\anaconda3\\envs\\ai-tools\\lib\\site-packages (from python-dateutil>=2.8.2->pandas->datasets) (1.16.0)\n"
     ]
    },
    {
     "name": "stderr",
     "output_type": "stream",
     "text": [
      "WARNING: Ignoring invalid distribution -illow (c:\\programdata\\anaconda3\\envs\\ai-tools\\lib\\site-packages)\n",
      "WARNING: Ignoring invalid distribution -illow (c:\\programdata\\anaconda3\\envs\\ai-tools\\lib\\site-packages)\n",
      "WARNING: Ignoring invalid distribution -illow (c:\\programdata\\anaconda3\\envs\\ai-tools\\lib\\site-packages)\n",
      "WARNING: Ignoring invalid distribution -illow (c:\\programdata\\anaconda3\\envs\\ai-tools\\lib\\site-packages)\n",
      "WARNING: Ignoring invalid distribution -illow (c:\\programdata\\anaconda3\\envs\\ai-tools\\lib\\site-packages)\n",
      "WARNING: Ignoring invalid distribution -illow (c:\\programdata\\anaconda3\\envs\\ai-tools\\lib\\site-packages)\n",
      "WARNING: Ignoring invalid distribution -illow (c:\\programdata\\anaconda3\\envs\\ai-tools\\lib\\site-packages)\n",
      "ERROR: Directory '//' is not installable. Neither 'setup.py' nor 'pyproject.toml' found.\n",
      "WARNING: Ignoring invalid distribution -illow (c:\\programdata\\anaconda3\\envs\\ai-tools\\lib\\site-packages)\n",
      "WARNING: Ignoring invalid distribution -illow (c:\\programdata\\anaconda3\\envs\\ai-tools\\lib\\site-packages)\n",
      "WARNING: Ignoring invalid distribution -illow (c:\\programdata\\anaconda3\\envs\\ai-tools\\lib\\site-packages)\n"
     ]
    },
    {
     "name": "stdout",
     "output_type": "stream",
     "text": [
      "Requirement already satisfied: transformers in c:\\programdata\\anaconda3\\envs\\ai-tools\\lib\\site-packages (4.28.1)\n",
      "Requirement already satisfied: pandas in c:\\programdata\\anaconda3\\envs\\ai-tools\\lib\\site-packages (2.0.0)\n",
      "Requirement already satisfied: accelerate in c:\\programdata\\anaconda3\\envs\\ai-tools\\lib\\site-packages (0.18.0)\n",
      "Requirement already satisfied: nvidia-ml-py3 in c:\\programdata\\anaconda3\\envs\\ai-tools\\lib\\site-packages (7.352.0)\n",
      "Requirement already satisfied: datasets in c:\\programdata\\anaconda3\\envs\\ai-tools\\lib\\site-packages (2.11.0)\n",
      "Requirement already satisfied: requests in c:\\programdata\\anaconda3\\envs\\ai-tools\\lib\\site-packages (from transformers) (2.28.1)\n",
      "Requirement already satisfied: numpy>=1.17 in c:\\programdata\\anaconda3\\envs\\ai-tools\\lib\\site-packages (from transformers) (1.24.1)\n",
      "Requirement already satisfied: tqdm>=4.27 in c:\\programdata\\anaconda3\\envs\\ai-tools\\lib\\site-packages (from transformers) (4.65.0)\n",
      "Requirement already satisfied: huggingface-hub<1.0,>=0.11.0 in c:\\programdata\\anaconda3\\envs\\ai-tools\\lib\\site-packages (from transformers) (0.13.4)\n",
      "Requirement already satisfied: packaging>=20.0 in c:\\programdata\\anaconda3\\envs\\ai-tools\\lib\\site-packages (from transformers) (23.1)\n",
      "Requirement already satisfied: filelock in c:\\programdata\\anaconda3\\envs\\ai-tools\\lib\\site-packages (from transformers) (3.9.0)\n",
      "Requirement already satisfied: tokenizers!=0.11.3,<0.14,>=0.11.1 in c:\\programdata\\anaconda3\\envs\\ai-tools\\lib\\site-packages (from transformers) (0.13.3)\n",
      "Requirement already satisfied: pyyaml>=5.1 in c:\\programdata\\anaconda3\\envs\\ai-tools\\lib\\site-packages (from transformers) (6.0)\n",
      "Requirement already satisfied: regex!=2019.12.17 in c:\\programdata\\anaconda3\\envs\\ai-tools\\lib\\site-packages (from transformers) (2023.3.23)\n",
      "Requirement already satisfied: python-dateutil>=2.8.2 in c:\\programdata\\anaconda3\\envs\\ai-tools\\lib\\site-packages (from pandas) (2.8.2)\n",
      "Requirement already satisfied: pytz>=2020.1 in c:\\programdata\\anaconda3\\envs\\ai-tools\\lib\\site-packages (from pandas) (2023.3)\n",
      "Requirement already satisfied: tzdata>=2022.1 in c:\\programdata\\anaconda3\\envs\\ai-tools\\lib\\site-packages (from pandas) (2023.3)\n",
      "Requirement already satisfied: psutil in c:\\programdata\\anaconda3\\envs\\ai-tools\\lib\\site-packages (from accelerate) (5.9.5)\n",
      "Requirement already satisfied: torch>=1.4.0 in c:\\programdata\\anaconda3\\envs\\ai-tools\\lib\\site-packages (from accelerate) (2.0.0+cu117)\n",
      "Requirement already satisfied: xxhash in c:\\programdata\\anaconda3\\envs\\ai-tools\\lib\\site-packages (from datasets) (3.2.0)\n",
      "Requirement already satisfied: fsspec[http]>=2021.11.1 in c:\\programdata\\anaconda3\\envs\\ai-tools\\lib\\site-packages (from datasets) (2023.4.0)\n",
      "Requirement already satisfied: responses<0.19 in c:\\programdata\\anaconda3\\envs\\ai-tools\\lib\\site-packages (from datasets) (0.18.0)\n",
      "Requirement already satisfied: aiohttp in c:\\programdata\\anaconda3\\envs\\ai-tools\\lib\\site-packages (from datasets) (3.8.4)\n",
      "Requirement already satisfied: dill<0.3.7,>=0.3.0 in c:\\programdata\\anaconda3\\envs\\ai-tools\\lib\\site-packages (from datasets) (0.3.6)\n",
      "Requirement already satisfied: multiprocess in c:\\programdata\\anaconda3\\envs\\ai-tools\\lib\\site-packages (from datasets) (0.70.13)\n",
      "Requirement already satisfied: pyarrow>=8.0.0 in c:\\programdata\\anaconda3\\envs\\ai-tools\\lib\\site-packages (from datasets) (9.0.0)\n",
      "Requirement already satisfied: attrs>=17.3.0 in c:\\programdata\\anaconda3\\envs\\ai-tools\\lib\\site-packages (from aiohttp->datasets) (23.1.0)\n",
      "Requirement already satisfied: frozenlist>=1.1.1 in c:\\programdata\\anaconda3\\envs\\ai-tools\\lib\\site-packages (from aiohttp->datasets) (1.3.3)\n",
      "Requirement already satisfied: async-timeout<5.0,>=4.0.0a3 in c:\\programdata\\anaconda3\\envs\\ai-tools\\lib\\site-packages (from aiohttp->datasets) (4.0.2)\n",
      "Requirement already satisfied: aiosignal>=1.1.2 in c:\\programdata\\anaconda3\\envs\\ai-tools\\lib\\site-packages (from aiohttp->datasets) (1.3.1)\n",
      "Requirement already satisfied: multidict<7.0,>=4.5 in c:\\programdata\\anaconda3\\envs\\ai-tools\\lib\\site-packages (from aiohttp->datasets) (6.0.4)\n",
      "Requirement already satisfied: charset-normalizer<4.0,>=2.0 in c:\\programdata\\anaconda3\\envs\\ai-tools\\lib\\site-packages (from aiohttp->datasets) (2.1.1)\n",
      "Requirement already satisfied: yarl<2.0,>=1.0 in c:\\programdata\\anaconda3\\envs\\ai-tools\\lib\\site-packages (from aiohttp->datasets) (1.8.2)\n",
      "Requirement already satisfied: typing-extensions>=3.7.4.3 in c:\\programdata\\anaconda3\\envs\\ai-tools\\lib\\site-packages (from huggingface-hub<1.0,>=0.11.0->transformers) (4.4.0)\n",
      "Requirement already satisfied: six>=1.5 in c:\\programdata\\anaconda3\\envs\\ai-tools\\lib\\site-packages (from python-dateutil>=2.8.2->pandas) (1.16.0)\n",
      "Requirement already satisfied: certifi>=2017.4.17 in c:\\programdata\\anaconda3\\envs\\ai-tools\\lib\\site-packages (from requests->transformers) (2022.12.7)\n",
      "Requirement already satisfied: urllib3<1.27,>=1.21.1 in c:\\programdata\\anaconda3\\envs\\ai-tools\\lib\\site-packages (from requests->transformers) (1.26.13)\n",
      "Requirement already satisfied: idna<4,>=2.5 in c:\\programdata\\anaconda3\\envs\\ai-tools\\lib\\site-packages (from requests->transformers) (3.4)\n",
      "Requirement already satisfied: networkx in c:\\programdata\\anaconda3\\envs\\ai-tools\\lib\\site-packages (from torch>=1.4.0->accelerate) (3.0)\n",
      "Requirement already satisfied: sympy in c:\\programdata\\anaconda3\\envs\\ai-tools\\lib\\site-packages (from torch>=1.4.0->accelerate) (1.11.1)\n",
      "Requirement already satisfied: jinja2 in c:\\programdata\\anaconda3\\envs\\ai-tools\\lib\\site-packages (from torch>=1.4.0->accelerate) (3.1.2)\n",
      "Requirement already satisfied: colorama in c:\\programdata\\anaconda3\\envs\\ai-tools\\lib\\site-packages (from tqdm>=4.27->transformers) (0.4.6)\n",
      "Requirement already satisfied: MarkupSafe>=2.0 in c:\\programdata\\anaconda3\\envs\\ai-tools\\lib\\site-packages (from jinja2->torch>=1.4.0->accelerate) (2.1.2)\n",
      "Requirement already satisfied: mpmath>=0.19 in c:\\programdata\\anaconda3\\envs\\ai-tools\\lib\\site-packages (from sympy->torch>=1.4.0->accelerate) (1.2.1)\n"
     ]
    },
    {
     "name": "stderr",
     "output_type": "stream",
     "text": [
      "WARNING: Ignoring invalid distribution -illow (c:\\programdata\\anaconda3\\envs\\ai-tools\\lib\\site-packages)\n",
      "WARNING: Ignoring invalid distribution -illow (c:\\programdata\\anaconda3\\envs\\ai-tools\\lib\\site-packages)\n",
      "WARNING: Ignoring invalid distribution -illow (c:\\programdata\\anaconda3\\envs\\ai-tools\\lib\\site-packages)\n",
      "WARNING: Ignoring invalid distribution -illow (c:\\programdata\\anaconda3\\envs\\ai-tools\\lib\\site-packages)\n",
      "WARNING: Ignoring invalid distribution -illow (c:\\programdata\\anaconda3\\envs\\ai-tools\\lib\\site-packages)\n",
      "WARNING: Ignoring invalid distribution -illow (c:\\programdata\\anaconda3\\envs\\ai-tools\\lib\\site-packages)\n"
     ]
    }
   ],
   "source": [
    "# Install dependencies and libraries including CUDA for PyTorch\n",
    "!pip install datasets markdown beautifulsoup4\n",
    "!pip install torch torchvision torchaudio --index-url https://download.pytorch.org/whl/cu117\n",
    "!pip install transformers pandas accelerate nvidia-ml-py3 datasets"
   ],
   "metadata": {
    "collapsed": false
   }
  },
  {
   "cell_type": "code",
   "execution_count": 106,
   "metadata": {
    "ExecuteTime": {
     "start_time": "2023-04-23T22:53:33.288886Z",
     "end_time": "2023-04-23T22:53:36.580778Z"
    }
   },
   "outputs": [
    {
     "name": "stdout",
     "output_type": "stream",
     "text": [
      "Total questions: 1601\n"
     ]
    },
    {
     "data": {
      "text/plain": "                                            question   \n0  Given variables a and b, switch their values s...  \\\n0         How do you list the functions in a module?   \n0                              What are descriptors?   \n0                                     What is React?   \n0      How would you write an inline style in React?   \n\n                                              answer  \n0                                    py\\na, b = b, a  \n0  Use the dir() method to list the functions in ...  \n0  Descriptors were introduced to Python way back...  \n0  React is an open-source JavaScript library cre...  \n0  For example: ```html\\n```\\n\\n\\n#### What is JE...  ",
      "text/html": "<div>\n<style scoped>\n    .dataframe tbody tr th:only-of-type {\n        vertical-align: middle;\n    }\n\n    .dataframe tbody tr th {\n        vertical-align: top;\n    }\n\n    .dataframe thead th {\n        text-align: right;\n    }\n</style>\n<table border=\"1\" class=\"dataframe\">\n  <thead>\n    <tr style=\"text-align: right;\">\n      <th></th>\n      <th>question</th>\n      <th>answer</th>\n    </tr>\n  </thead>\n  <tbody>\n    <tr>\n      <th>0</th>\n      <td>Given variables a and b, switch their values s...</td>\n      <td>py\\na, b = b, a</td>\n    </tr>\n    <tr>\n      <th>0</th>\n      <td>How do you list the functions in a module?</td>\n      <td>Use the dir() method to list the functions in ...</td>\n    </tr>\n    <tr>\n      <th>0</th>\n      <td>What are descriptors?</td>\n      <td>Descriptors were introduced to Python way back...</td>\n    </tr>\n    <tr>\n      <th>0</th>\n      <td>What is React?</td>\n      <td>React is an open-source JavaScript library cre...</td>\n    </tr>\n    <tr>\n      <th>0</th>\n      <td>How would you write an inline style in React?</td>\n      <td>For example: ```html\\n```\\n\\n\\n#### What is JE...</td>\n    </tr>\n  </tbody>\n</table>\n</div>"
     },
     "execution_count": 106,
     "metadata": {},
     "output_type": "execute_result"
    }
   ],
   "source": [
    "import os\n",
    "import markdown\n",
    "import pandas as pd\n",
    "from bs4 import BeautifulSoup\n",
    "from datasets import Dataset\n",
    "\n",
    "sudheerj_paths = [\n",
    "    os.path.join('..', 'data', 'interview', 'sudheerj', 'angular-interview-questions.md'),\n",
    "    os.path.join('..', 'data', 'interview', 'sudheerj', 'javascript-interview-questions.md'),\n",
    "    os.path.join('..', 'data', 'interview', 'sudheerj', 'reactjs-interview-questions.md'),\n",
    "]\n",
    "aershov24_paths = [\n",
    "    os.path.join('..', 'data', 'interview', 'aershov24', 'full-stack-interview-questions.md')\n",
    "]\n",
    "\n",
    "def parse_files(md_files, question_selector):\n",
    "    data = pd.DataFrame()\n",
    "    for md_file in md_files:\n",
    "        with open(md_file, \"r\", encoding=\"utf-8\") as file:\n",
    "            md_content = file.read()\n",
    "            html_content = markdown.markdown(md_content)\n",
    "            soup = BeautifulSoup(html_content, \"html.parser\")\n",
    "\n",
    "            questions = soup.select(question_selector)\n",
    "\n",
    "            for question in questions:\n",
    "                answer_elements = []\n",
    "                sibling = question.find_next_sibling()\n",
    "\n",
    "                while sibling and sibling.name != question_selector:\n",
    "                    answer_elements.append(str(sibling))\n",
    "                    sibling = sibling.find_next_sibling()\n",
    "\n",
    "                answer = BeautifulSoup(''.join(answer_elements).strip())\n",
    "\n",
    "                data = pd.concat([data, pd.DataFrame({\n",
    "                    'question': [question.text.strip()],\n",
    "                    'answer': [answer.text.strip()]\n",
    "                })])\n",
    "    return data\n",
    "\n",
    "sudheerj_df = parse_files(sudheerj_paths, \"h3\")\n",
    "aershov24_df = parse_files(aershov24_paths, \"h4\")\n",
    "\n",
    "combine_df = pd.concat([sudheerj_df, aershov24_df])\n",
    "\n",
    "print(f\"Total questions: {len(combine_df)}\")\n",
    "\n",
    "combine_df.to_csv(os.path.join('..', 'datasets', 'interview', 'interview_questions.csv'), index=False)\n",
    "combine_df.tail()"
   ]
  },
  {
   "cell_type": "code",
   "execution_count": null,
   "metadata": {
    "ExecuteTime": {
     "start_time": "2023-04-23T22:53:48.556012Z",
     "end_time": "2023-04-23T22:53:52.625352Z"
    },
    "pycharm": {
     "is_executing": true
    }
   },
   "outputs": [
    {
     "data": {
      "text/plain": "Map:   0%|          | 0/1601 [00:00<?, ? examples/s]",
      "application/vnd.jupyter.widget-view+json": {
       "version_major": 2,
       "version_minor": 0,
       "model_id": "6676d205508d4d7197d0846017829f04"
      }
     },
     "metadata": {},
     "output_type": "display_data"
    },
    {
     "data": {
      "text/plain": "Map:   0%|          | 0/1601 [00:00<?, ? examples/s]",
      "application/vnd.jupyter.widget-view+json": {
       "version_major": 2,
       "version_minor": 0,
       "model_id": "e46072b141b4494e9e2ff4aa30aa2588"
      }
     },
     "metadata": {},
     "output_type": "display_data"
    },
    {
     "data": {
      "text/plain": "Paraphrasing questions:   0%|          | 0/1601 [00:00<?, ?it/s]",
      "application/vnd.jupyter.widget-view+json": {
       "version_major": 2,
       "version_minor": 0,
       "model_id": "cfb98662110c4e1292badf44838aa874"
      }
     },
     "metadata": {},
     "output_type": "display_data"
    }
   ],
   "source": [
    "from transformers.pipelines.base import KeyDataset\n",
    "from tqdm.auto import tqdm\n",
    "from datasets import Dataset\n",
    "import pandas as pd\n",
    "from transformers import pipeline\n",
    "from accelerate import Accelerator\n",
    "\n",
    "accelerator = Accelerator()\n",
    "\n",
    "num_paraphrases = 2\n",
    "batch_size = 5\n",
    "\n",
    "combined_ds = Dataset.from_pandas(combine_df)\n",
    "\n",
    "paraphrase_pipeline = pipeline(\n",
    "    \"text2text-generation\",\n",
    "    model=\"google/flan-t5-small\",\n",
    "    tokenizer=\"google/flan-t5-small\",\n",
    "    framework=\"pt\",\n",
    "    num_beams=num_paraphrases,\n",
    "    device=accelerator.device.index\n",
    ")\n",
    "\n",
    "# Helper function to preprocess input for the pipeline\n",
    "def preprocess_input(batch, input_key):\n",
    "    return\n",
    "\n",
    "paraphrased_questions_df = pd.DataFrame(columns=[\"question\"])\n",
    "paraphrased_answers_df = pd.DataFrame(columns=[\"answer\"])\n",
    "\n",
    "preprocessed_batch_question = combined_ds.map(lambda examples: {\"question\": [f\"paraphrase: {example}\" for example in examples['question']]}, batched=True, batch_size=batch_size)\n",
    "preprocessed_batch_answer = combined_ds.map(lambda examples: {\"answer\": [f\"paraphrase: {example}\" for example in examples['answer']]}, batched=True, batch_size=batch_size)\n",
    "\n",
    "for batch in tqdm(paraphrase_pipeline(KeyDataset(preprocessed_batch_question, \"question\"), num_return_sequences=num_paraphrases), desc=\"Paraphrasing questions\", total=len(preprocessed_batch_question)):\n",
    "    for paraphrase in batch:\n",
    "        paraphrased_questions_df = pd.concat([paraphrased_questions_df, pd.DataFrame({\n",
    "            'question': [paraphrase['generated_text']]\n",
    "        })], ignore_index=True)\n",
    "for batch in tqdm(paraphrase_pipeline(KeyDataset(preprocessed_batch_answer, \"answer\"), num_return_sequences=num_paraphrases), desc=\"Paraphrasing answers\", total=len(preprocessed_batch_answer)):\n",
    "    for paraphrase in batch:\n",
    "        paraphrased_answers_df = pd.concat([paraphrased_answers_df, pd.DataFrame({\n",
    "            'answer': [paraphrase['generated_text']]\n",
    "        })], ignore_index=True)\n",
    "\n",
    "paraphrased_qa_df = pd.concat([paraphrased_questions_df, paraphrased_answers_df], axis=1, join=\"inner\")\n",
    "paraphrased_qa_combined = pd.concat([paraphrased_qa_df, combine_df], axis=0, join=\"inner\")\n",
    "paraphrased_qa_df.to_csv(os.path.join('..', 'datasets', 'interview', 'paraphrased_qa.csv'), index=False)\n",
    "paraphrased_qa_combined.to_csv(os.path.join('..', 'datasets', 'interview', 'paraphrased_qa_combined.csv'), index=False)\n",
    "\n",
    "print(f\"Para-phrased questions: {len(paraphrased_questions_df)}\")\n",
    "print(f\"The original questions: {len(combine_df)}\")\n",
    "print(f\"Together: {len(paraphrased_qa_combined)}\")"
   ]
  },
  {
   "cell_type": "code",
   "execution_count": null,
   "outputs": [],
   "source": [],
   "metadata": {
    "collapsed": false
   }
  }
 ],
 "metadata": {
  "kernelspec": {
   "display_name": "Python 3 (ipykernel)",
   "language": "python",
   "name": "python3"
  },
  "language_info": {
   "codemirror_mode": {
    "name": "ipython",
    "version": 3
   },
   "file_extension": ".py",
   "mimetype": "text/x-python",
   "name": "python",
   "nbconvert_exporter": "python",
   "pygments_lexer": "ipython3",
   "version": "3.8.16"
  }
 },
 "nbformat": 4,
 "nbformat_minor": 1
}
